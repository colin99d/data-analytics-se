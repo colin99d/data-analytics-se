{
 "cells": [
  {
   "cell_type": "code",
   "execution_count": 1,
   "metadata": {},
   "outputs": [],
   "source": [
    "# Import some basic libraries\n",
    "import numpy as np\n",
    "import matplotlib.pyplot as plt\n",
    "%matplotlib inline\n",
    "import seaborn as sns\n",
    "sns.set_context('paper')"
   ]
  },
  {
   "cell_type": "markdown",
   "metadata": {},
   "source": [
    "# Hands-on Activity 10.3: Quanifying Epistemic Uncertainty in Monte Carlo estimates\n",
    "\n",
    "## Objectives\n",
    "\n",
    "+ To quantify the epistemic uncertainty in Monte Carlo estimates.\n",
    "\n",
    "\n",
    "## The central limit theorem comes to the rescue\n",
    "\n",
    "Remember that we are working with an expectation of the form:\n",
    "$$\n",
    "I = \\mathbb{E}[g(X)]=\\int g(x) p(x) dx,\n",
    "$$\n",
    "where $X\\sim p(x)$ and $g(x)$ is a function of $x$.\n",
    "Our sampling-based approximation starts by taking $X_1,X_2,\\dots$ be independent copies of $X$.\n",
    "Then, it uses the random variables $Y_1 = g(X_1), Y_2 = g(X_2), \\dots$, which are also independent and identically distributed.\n",
    "Invoking the strong law of large states we saw that sampling average of the $Y_i$'s converges to their mean:\n",
    "$$\n",
    "\\bar{I}_N=\\frac{g(X_1)+\\dots+g(X_N)}{N}=\\frac{Y_1+\\dots+Y_N}{N}\\rightarrow I,\\;\\text{a.s.}\n",
    "$$\n",
    "A couple of videos ago, we observed that for fixed $N$ this estimate can vary widely.\n",
    "In this hands-on we are going to demonstrate how one can use the Central Limit Theorem (CLT) to quantify the epistemic uncertainty of $I_N$.\n",
    "\n",
    "Note that the variables $Y_i = g(X_i)$ are independent identical distributed with mean:\n",
    "$$\n",
    "\\mathbb{E}[Y_i] = \\mathbb{E}[g(X_i)] = I.\n",
    "$$\n",
    "Assume that their variance is finite, i.e.,\n",
    "$$\n",
    "\\mathbb{V}[Y_i] = \\sigma^2 < +\\infty.\n",
    "$$\n",
    "Yes, it is possible for a random variable to have a infinite variance.\n",
    "The CLT would not work in that case.\n",
    "Okay. If the variance of the $Y_i$'s is indeed finite, the CLT applies for them, and you get that their sampling average $\\bar{I}_N$ becomes approximately normally distributed for large $N$, i.e.,\n",
    "$$\n",
    "\\bar{I}_N \\sim N\\left(I, \\frac{\\sigma^2}{N}\\right),\n",
    "$$\n",
    "for large $N$.\n",
    "Now, we may rewrite this equation as:\n",
    "$$\n",
    "\\bar{I}_N = I + \\frac{\\sigma}{\\sqrt{N}}Z,\n",
    "$$\n",
    "where $Z\\sim N(0,1)$ is a standard normal (look at our Lecture 6 to remind yourself why $X = \\mu + \\sigma Z$ follows $N(\\mu,\\sigma^2)$ if $Z$ follows a $N(0,1)$).\n",
    "It's like saying $I_N$ is $I$ plus some zero mean noise with a given variance.\n",
    "But it is not ad hoc, this is exactly what the CLT says.\n",
    "Now take this equation and solve for $I$:\n",
    "$$\n",
    "I = \\bar{I}_N - \\frac{\\sigma}{\\sqrt{N}}Z.\n",
    "$$\n",
    "This says that the true value of the expectation $I$ is $I_N$ minus some zero mean noise with a given variance.\n",
    "Going back to distributions:\n",
    "$$\n",
    "I \\sim N\\left(\\bar{I}_N, \\frac{\\sigma^2}{N}\\right),\n",
    "$$\n",
    "where the minus sign disappears because we had to square it.\n",
    "This would be exactly what we were after, except from the fact that we don't really know what $\\sigma^2$ is...\n",
    "Well, let's approximate it also with sampling-average!\n",
    "We did this already in Video 4 of Lecture 8.\n",
    "Set:\n",
    "$$\n",
    "\\sigma_N^2 = \\frac{1}{N}\\sum_{j=1}^Ng^2(X_j) - \\bar{I}_N^2.\n",
    "$$\n",
    "And now we can say that:\n",
    "$$\n",
    "I \\sim N\\left(\\bar{I}_N, \\frac{\\bar{\\sigma}^2_N}{N}\\right),\n",
    "$$\n",
    "where of course you need to keep in mind that this is only valid for large $N$\n",
    "It is also possible to think about this in terms of predictive quantiles for $I$.\n",
    "We can write something like:\n",
    "$$\n",
    "I \\approx \\bar{I}_N \\pm \\frac{2}{\\sqrt{N}}\\bar{\\sigma}_N,\n",
    "$$\n",
    "with (about) $95\\%$ probability (see Video 3 of Lecture 9).\n",
    "\n",
    "Alright, let's see this in practice."
   ]
  },
  {
   "cell_type": "code",
   "execution_count": 7,
   "metadata": {},
   "outputs": [
    {
     "data": {
      "image/png": "[encoded data removed]",
      "text/plain": [
       "<Figure size 900x600 with 1 Axes>"
      ]
     },
     "metadata": {
      "needs_background": "light"
     },
     "output_type": "display_data"
    }
   ],
   "source": [
    "# The function of x we would like to consider\n",
    "g = lambda x: (np.cos(50 * x) + np.sin(20 * x)) ** 2\n",
    "\n",
    "# Number of samples to take\n",
    "N = 10000\n",
    "\n",
    "# Generate samples from X\n",
    "x_samples = np.random.rand(N)\n",
    "\n",
    "# Get the corresponding Y's\n",
    "y_samples = g(x_samples)\n",
    "\n",
    "# Evaluate the sample average for all sample sizes (see https://docs.scipy.org/doc/numpy/reference/generated/numpy.cumsum.html)\n",
    "I_running = np.cumsum(y_samples) / np.arange(1, N + 1)\n",
    "\n",
    "# Evaluate the sample average for the squared of Y\n",
    "g2_running = np.cumsum(y_samples ** 2) / np.arange(1, N + 1)\n",
    "\n",
    "# Evaluate the running average of the variance\n",
    "sigma2_running = g2_running - I_running ** 2\n",
    "\n",
    "# Alright, now we have quantified our uncertainty about I for every N\n",
    "# from a single MC run. Let's plot a (about) 95% predictive interval\n",
    "# Running lower bound for the predictive interval\n",
    "I_lower_running = I_running - 2.0 * np.sqrt(sigma2_running / np.arange(1, N + 1))\n",
    "# Running upper bound for the predictive interval\n",
    "I_upper_running = I_running + 2.0 * np.sqrt(sigma2_running / np.arange(1, N + 1))\n",
    "\n",
    "# A common plot for all estimates\n",
    "fig, ax = plt.subplots(dpi=150)\n",
    "# Shaded area for the interval\n",
    "ax.fill_between(np.arange(1, N + 1), I_lower_running, I_upper_running, alpha=0.25)\n",
    "# Here is the MC estimate:\n",
    "ax.plot(np.arange(1, N+1), I_running, 'b', lw=2)\n",
    "# The true value\n",
    "ax.plot(np.arange(1, N+1), [0.965] * N, color='r')\n",
    "# and the labels\n",
    "ax.set_xlabel('$N$')\n",
    "ax.set_ylabel(r'$\\bar{I}_N$');"
   ]
  },
  {
   "cell_type": "markdown",
   "metadata": {},
   "source": [
    "## Questions\n",
    "\n",
    "+ Increase ``N`` until you get an answer that is close enough to the correct answer (the red line). Notice how the epistemic error bars shrink around the true value."
   ]
  }
 ],
 "metadata": {
  "kernelspec": {
   "display_name": "Python 3 (ipykernel)",
   "language": "python",
   "name": "python3"
  },
  "language_info": {
   "codemirror_mode": {
    "name": "ipython",
    "version": 3
   },
   "file_extension": ".py",
   "mimetype": "text/x-python",
   "name": "python",
   "nbconvert_exporter": "python",
   "pygments_lexer": "ipython3",
   "version": "3.8.13"
  }
 },
 "nbformat": 4,
 "nbformat_minor": 4
}
